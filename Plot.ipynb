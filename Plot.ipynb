{
 "cells": [
  {
   "cell_type": "code",
   "execution_count": 1,
   "metadata": {},
   "outputs": [],
   "source": [
    "import matplotlib\n",
    "import matplotlib.pyplot as plt\n",
    "import numpy as np\n",
    "import PIL\n",
    "from PIL import Image\n",
    "import augmentation_transforms_hp\n",
    "import data_utils\n",
    "import os\n",
    "import cPickle\n",
    "from data_utils import unpickle\n",
    "import copy\n",
    "from utils import parse_log_schedule\n",
    "import seaborn\n",
    "import matplotlib.gridspec as gridspec\n",
    "\n",
    "# load svhn\n",
    "import torchvision\n",
    "import imageio\n"
   ]
  },
  {
   "cell_type": "code",
   "execution_count": 15,
   "metadata": {},
   "outputs": [],
   "source": [
    "tiles=6"
   ]
  },
  {
   "cell_type": "code",
   "execution_count": 42,
   "metadata": {
    "scrolled": false
   },
   "outputs": [
    {
     "name": "stdout",
     "output_type": "stream",
     "text": [
      "Using downloaded and verified file: /data/dho/datasets/train_32x32.mat\n"
     ]
    }
   ],
   "source": [
    "train_loader = torchvision.datasets.SVHN(\n",
    "    root=\"/data/dho/datasets\", split=\"train\", download=True)\n",
    "num_classes = 10\n",
    "all_data = train_loader.data\n",
    "all_data = all_data.reshape(-1, 3, 32, 32)\n",
    "all_data = all_data.transpose(0, 2, 3, 1).copy()\n",
    "all_data = all_data / 255.0\n",
    "all_data = (all_data - augmentation_transforms_hp.MEANS[\"svhn_1000\"]) / augmentation_transforms_hp.STDS[\"svhn_1000\"]\n",
    "np.random.seed(0)\n",
    "perm = np.arange(len(all_data))\n",
    "np.random.shuffle(perm)\n",
    "all_data = all_data[perm]\n",
    "select = [0, 3, 4, 10, 11, 12, 15, 17, 22, 25, 28, 29, 32, 37, 44, 48, 54, 57]\n",
    "all_data = all_data[select]\n",
    "\n",
    "# for idx in range(10):\n",
    "#     fig, axes = plt.subplots(4, 4, sharey=True, figsize=(15,20))\n",
    "#     for i in range(4):\n",
    "#         for j in range(4):\n",
    "#             axes[i][j].imshow(all_data[idx*16+i*4+j])\n",
    "#             axes[i][j].set(xlabel=idx*16+i*4+j)\n",
    "#     plt.show()\n",
    "#     plt.clf()\n",
    "\n",
    "all_schedule = parse_log_schedule('/home/danny/Documents/pba/schedules/svhn/svhn_2_23_b_policy_15.txt', 160)\n",
    "final_svhn_imgs = []\n",
    "for sch_idx in list(range(0, 160, 16)) + [159]:\n",
    "    sch_imgs = []\n",
    "    for img_idx in range(tiles*tiles//2):\n",
    "        img_arr = all_data[img_idx]\n",
    "        schedule = all_schedule[sch_idx]\n",
    "        split = len(schedule) // 2\n",
    "        cur_pol = data_utils.parse_policy(\n",
    "            schedule[:split], augmentation_transforms_hp)\n",
    "        cur_pol.extend(data_utils.parse_policy(\n",
    "            schedule[split:], augmentation_transforms_hp))\n",
    "        this_img = augmentation_transforms_hp.apply_policy(cur_pol, img_arr, 'cifar10', 'svhn_1000')\n",
    "        this_img = (this_img * augmentation_transforms_hp.STDS['svhn_1000']) + augmentation_transforms_hp.MEANS['svhn_1000']\n",
    "        sch_imgs.append(this_img)\n",
    "    final_svhn_imgs.append(sch_imgs)\n"
   ]
  },
  {
   "cell_type": "code",
   "execution_count": null,
   "metadata": {},
   "outputs": [],
   "source": [
    "\n"
   ]
  },
  {
   "cell_type": "code",
   "execution_count": 39,
   "metadata": {
    "scrolled": false
   },
   "outputs": [
    {
     "name": "stdout",
     "output_type": "stream",
     "text": [
      "INFO:tensorflow:loading file: /home/danny/.data/cifar-10-batches-py/data_batch_1\n"
     ]
    }
   ],
   "source": [
    "# load cifar\n",
    "d = unpickle('/home/danny/.data/cifar-10-batches-py/data_batch_1')\n",
    "all_data = d['data']\n",
    "all_data = all_data.reshape(10000, 3072)\n",
    "all_data = all_data.reshape(-1, 3, 32, 32)\n",
    "all_data = all_data.transpose(0, 2, 3, 1).copy()\n",
    "all_data = all_data / 255.0\n",
    "\n",
    "select = [0, 1, 2, 4, 5,6,7,8,18, 19, 30, 28, 34, 40, 43, 46, 123, 26]\n",
    "all_data = all_data[select]\n",
    "# for idx in range(10):\n",
    "#     fig, axes = plt.subplots(4, 4, sharey=True, figsize=(15,20))\n",
    "#     for i in range(4):\n",
    "#         for j in range(4):\n",
    "#             axes[i][j].imshow(all_data[idx*16+i*4+j])\n",
    "#             axes[i][j].set(xlabel=idx*16+i*4+j)\n",
    "#     plt.show()\n",
    "#     plt.clf()\n",
    "\n",
    "mean = augmentation_transforms_hp.MEANS[\"cifar10_4000\"]\n",
    "std = augmentation_transforms_hp.STDS[\"cifar10_4000\"]\n",
    "all_data = (all_data - mean) / std\n",
    "# np.random.seed(0)\n",
    "# perm = np.arange(len(all_data))\n",
    "# np.random.shuffle(perm)\n",
    "# all_data = all_data[perm]\n",
    "all_schedule = parse_log_schedule('/home/danny/Documents/pba/schedules/reduced_cifar_10/16_wrn.txt', 200)\n",
    "final_cifar_imgs = []\n",
    "for sch_idx in list(range(0, 200, 20)) + [199]:\n",
    "    sch_imgs = []\n",
    "    for img_idx in range(tiles*tiles//2):\n",
    "        img_arr = all_data[img_idx]\n",
    "        schedule = all_schedule[sch_idx]\n",
    "        split = len(schedule) // 2\n",
    "        cur_pol = data_utils.parse_policy(\n",
    "            schedule[:split], augmentation_transforms_hp)\n",
    "        cur_pol.extend(data_utils.parse_policy(\n",
    "            schedule[split:], augmentation_transforms_hp))\n",
    "        this_img = augmentation_transforms_hp.apply_policy(cur_pol, img_arr, 'cifar10', 'cifar10_4000')\n",
    "        this_img = (this_img * augmentation_transforms_hp.STDS['cifar10_4000']) + augmentation_transforms_hp.MEANS['cifar10_4000']\n",
    "        sch_imgs.append(this_img)\n",
    "    final_cifar_imgs.append(sch_imgs)\n"
   ]
  },
  {
   "cell_type": "code",
   "execution_count": 43,
   "metadata": {},
   "outputs": [
    {
     "name": "stdout",
     "output_type": "stream",
     "text": [
      "(11, 11)\n"
     ]
    }
   ],
   "source": [
    "print(len(final_svhn_imgs), len(final_cifar_imgs))\n",
    "final_imgs = []\n",
    "for i in range(len(final_svhn_imgs)):\n",
    "    final_imgs.append(final_svhn_imgs[i] + final_cifar_imgs[i])\n"
   ]
  },
  {
   "cell_type": "code",
   "execution_count": 53,
   "metadata": {},
   "outputs": [
    {
     "data": {
      "text/plain": [
       "<Figure size 720x720 with 0 Axes>"
      ]
     },
     "metadata": {},
     "output_type": "display_data"
    },
    {
     "data": {
      "text/plain": [
       "<Figure size 720x720 with 0 Axes>"
      ]
     },
     "metadata": {},
     "output_type": "display_data"
    },
    {
     "data": {
      "text/plain": [
       "<Figure size 720x720 with 0 Axes>"
      ]
     },
     "metadata": {},
     "output_type": "display_data"
    },
    {
     "data": {
      "text/plain": [
       "<Figure size 720x720 with 0 Axes>"
      ]
     },
     "metadata": {},
     "output_type": "display_data"
    },
    {
     "data": {
      "text/plain": [
       "<Figure size 720x720 with 0 Axes>"
      ]
     },
     "metadata": {},
     "output_type": "display_data"
    },
    {
     "data": {
      "text/plain": [
       "<Figure size 720x720 with 0 Axes>"
      ]
     },
     "metadata": {},
     "output_type": "display_data"
    },
    {
     "data": {
      "text/plain": [
       "<Figure size 720x720 with 0 Axes>"
      ]
     },
     "metadata": {},
     "output_type": "display_data"
    },
    {
     "data": {
      "text/plain": [
       "<Figure size 720x720 with 0 Axes>"
      ]
     },
     "metadata": {},
     "output_type": "display_data"
    },
    {
     "data": {
      "text/plain": [
       "<Figure size 720x720 with 0 Axes>"
      ]
     },
     "metadata": {},
     "output_type": "display_data"
    },
    {
     "data": {
      "text/plain": [
       "<Figure size 720x720 with 0 Axes>"
      ]
     },
     "metadata": {},
     "output_type": "display_data"
    },
    {
     "data": {
      "text/plain": [
       "<Figure size 720x720 with 0 Axes>"
      ]
     },
     "metadata": {},
     "output_type": "display_data"
    }
   ],
   "source": [
    "rendered = []\n",
    "# plt stuff\n",
    "for plot_img in range(len(final_imgs)):\n",
    "    matplotlib.rcParams.update({'font.size': 22})\n",
    "    fig, axes = plt.subplots(tiles, tiles, figsize=(10,10))\n",
    "    plt.subplots_adjust(hspace=0.0, wspace=-0.1)\n",
    "    fig.patch.set_visible(False)\n",
    "    fig.suptitle('SVHN/CIFAR at {}% of schedule.'.format(plot_img * 10))\n",
    "    for ax in axes.flat:\n",
    "        # ax.axis('off')\n",
    "        ax.set_yticklabels([])\n",
    "        ax.set_xticklabels([])\n",
    "        ax.set_yticks([])\n",
    "        ax.set_xticks([])\n",
    "    for i in range(tiles):\n",
    "        for j in range(tiles):\n",
    "            axes[j][i].imshow(final_imgs[plot_img][i*tiles+j])\n",
    "    fig.canvas.draw()\n",
    "    image = np.frombuffer(fig.canvas.tostring_rgb(), dtype='uint8')\n",
    "    image = image.reshape(fig.canvas.get_width_height()[::-1] + (3,))\n",
    "    rendered.append(image)\n",
    "    plt.clf()\n",
    "\n",
    "imageio.mimsave('./test.gif', rendered, fps=1)\n"
   ]
  },
  {
   "cell_type": "code",
   "execution_count": 52,
   "metadata": {},
   "outputs": [
    {
     "name": "stdout",
     "output_type": "stream",
     "text": [
      "GIF-PIL - Static and animated gif (Pillow)\n",
      "\n",
      "    A format for reading and writing static and animated GIF, based\n",
      "    on Pillow.\n",
      "    \n",
      "    Images read with this format are always RGBA. Currently,\n",
      "    the alpha channel is ignored when saving RGB images with this\n",
      "    format.\n",
      "    \n",
      "    Parameters for reading\n",
      "    ----------------------\n",
      "    None\n",
      "    \n",
      "    Parameters for saving\n",
      "    ---------------------\n",
      "    loop : int\n",
      "        The number of iterations. Default 0 (meaning loop indefinitely).\n",
      "    duration : {float, list}\n",
      "        The duration (in seconds) of each frame. Either specify one value\n",
      "        that is used for all frames, or one value for each frame.\n",
      "        Note that in the GIF format the duration/delay is expressed in\n",
      "        hundredths of a second, which limits the precision of the duration.\n",
      "    fps : float\n",
      "        The number of frames per second. If duration is not given, the\n",
      "        duration for each frame is set to 1/fps. Default 10.\n",
      "    palettesize : int\n",
      "        The number of colors to quantize the image to. Is rounded to\n",
      "        the nearest power of two. Default 256.\n",
      "    subrectangles : bool\n",
      "        If True, will try and optimize the GIF by storing only the\n",
      "        rectangular parts of each frame that change with respect to the\n",
      "        previous. Default False.\n",
      "\n"
     ]
    }
   ],
   "source": [
    "imageio.help(\"GIF\")"
   ]
  },
  {
   "cell_type": "code",
   "execution_count": null,
   "metadata": {},
   "outputs": [],
   "source": []
  }
 ],
 "metadata": {
  "kernelspec": {
   "display_name": "Python 2",
   "language": "python",
   "name": "python2"
  },
  "language_info": {
   "codemirror_mode": {
    "name": "ipython",
    "version": 2
   },
   "file_extension": ".py",
   "mimetype": "text/x-python",
   "name": "python",
   "nbconvert_exporter": "python",
   "pygments_lexer": "ipython2",
   "version": "2.7.15"
  }
 },
 "nbformat": 4,
 "nbformat_minor": 2
}
